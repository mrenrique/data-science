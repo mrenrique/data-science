{
  "nbformat": 4,
  "nbformat_minor": 0,
  "metadata": {
    "colab": {
      "name": "python_practice_01.ipynb",
      "provenance": [],
      "collapsed_sections": [],
      "authorship_tag": "ABX9TyPS7AlSp56KBN5nYtgt99c3",
      "include_colab_link": true
    },
    "kernelspec": {
      "name": "python3",
      "display_name": "Python 3"
    }
  },
  "cells": [
    {
      "cell_type": "markdown",
      "metadata": {
        "id": "view-in-github",
        "colab_type": "text"
      },
      "source": [
        "<a href=\"https://colab.research.google.com/github/mrenrique/data-science/blob/master/python_practice_01.ipynb\" target=\"_parent\"><img src=\"https://colab.research.google.com/assets/colab-badge.svg\" alt=\"Open In Colab\"/></a>"
      ]
    },
    {
      "cell_type": "markdown",
      "metadata": {
        "id": "TtxyHZVUp_c8",
        "colab_type": "text"
      },
      "source": [
        "# First Tittle"
      ]
    },
    {
      "cell_type": "code",
      "metadata": {
        "id": "fO3Ude_tpTIq",
        "colab_type": "code",
        "colab": {}
      },
      "source": [
        "# Importing libraries to use\n",
        "import numpy as np\n",
        "import pandas as pd"
      ],
      "execution_count": null,
      "outputs": []
    },
    {
      "cell_type": "code",
      "metadata": {
        "id": "HAhuh1UYqLIj",
        "colab_type": "code",
        "colab": {}
      },
      "source": [
        "asd = 2"
      ],
      "execution_count": null,
      "outputs": []
    },
    {
      "cell_type": "markdown",
      "metadata": {
        "id": "w9chEE_UqOcL",
        "colab_type": "text"
      },
      "source": [
        "# Second Tittle"
      ]
    }
  ]
}